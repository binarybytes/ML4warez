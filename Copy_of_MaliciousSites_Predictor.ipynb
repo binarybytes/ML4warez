{
  "nbformat": 4,
  "nbformat_minor": 0,
  "metadata": {
    "colab": {
      "name": "Copy of MaliciousSites_Predictor.ipynb",
      "version": "0.3.2",
      "provenance": [],
      "collapsed_sections": [],
      "include_colab_link": true
    },
    "kernelspec": {
      "name": "python3",
      "display_name": "Python 3"
    },
    "accelerator": "GPU"
  },
  "cells": [
    {
      "cell_type": "markdown",
      "metadata": {
        "id": "view-in-github",
        "colab_type": "text"
      },
      "source": [
        "<a href=\"https://colab.research.google.com/github/binarybytes/ML4warez/blob/master/Copy_of_MaliciousSites_Predictor.ipynb\" target=\"_parent\"><img src=\"https://colab.research.google.com/assets/colab-badge.svg\" alt=\"Open In Colab\"/></a>"
      ]
    },
    {
      "cell_type": "code",
      "metadata": {
        "id": "ZvcMf_441Xja",
        "colab_type": "code",
        "outputId": "deaabf42-9d7a-4cdf-a543-f7e513de664a",
        "colab": {
          "base_uri": "https://localhost:8080/",
          "height": 54
        }
      },
      "source": [
        "from google.colab import drive\n",
        "drive.mount ('/content/gdrive/')"
      ],
      "execution_count": 0,
      "outputs": [
        {
          "output_type": "stream",
          "text": [
            "Drive already mounted at /content/gdrive/; to attempt to forcibly remount, call drive.mount(\"/content/gdrive/\", force_remount=True).\n"
          ],
          "name": "stdout"
        }
      ]
    },
    {
      "cell_type": "markdown",
      "metadata": {
        "id": "hj3fWXBS7WsM",
        "colab_type": "text"
      },
      "source": [
        "`**before running anything - upload the dataset in the mounted drive**`"
      ]
    },
    {
      "cell_type": "code",
      "metadata": {
        "id": "hw86zqE18ZpE",
        "colab_type": "code",
        "outputId": "d2e7a3db-254b-44b1-8d21-ca54d2d794ee",
        "colab": {
          "base_uri": "https://localhost:8080/",
          "height": 51
        }
      },
      "source": [
        "#import libraries\n",
        "import pandas as pd\n",
        "\n",
        "#instantiate the csv\n",
        "malData = pd.read_csv(\"MalwareData.csv\", sep=\"|\")\n",
        "\n",
        "legit = malData[0:41323].drop([\"legitimate\"], axis=1)\n",
        "\n",
        "mals = malData[41323::].drop([\"legitimate\"], axis=1)\n",
        "\n",
        "print(\"the shape of legit dataset is, %s samples, %s features \" %(legit.shape[0],legit.shape[1]))\n",
        "\n",
        "print (\"the shape of mals dataset is, %s samples, %s features \" %(mals.shape[0],mals.shape[1]))\n",
        "#run"
      ],
      "execution_count": 0,
      "outputs": [
        {
          "output_type": "stream",
          "text": [
            "the shape of legit dataset is, 41323 samples, 56 features \n",
            "the shape of mals dataset is, 96724 samples, 56 features \n"
          ],
          "name": "stdout"
        }
      ]
    },
    {
      "cell_type": "code",
      "metadata": {
        "id": "FNzTY7D32Cdt",
        "colab_type": "code",
        "colab": {}
      },
      "source": [
        "#list all of the [56] features/variables\n",
        "print(malData.columns)"
      ],
      "execution_count": 0,
      "outputs": []
    },
    {
      "cell_type": "code",
      "metadata": {
        "id": "GYNqGd04FQVq",
        "colab_type": "code",
        "outputId": "cf2807d4-70fe-4912-b546-0a0e0e7651e7",
        "colab": {
          "base_uri": "https://localhost:8080/",
          "height": 153
        }
      },
      "source": [
        "print(malData.head(5))"
      ],
      "execution_count": 0,
      "outputs": [
        {
          "output_type": "stream",
          "text": [
            "           Name  ... legitimate\n",
            "0   memtest.exe  ...          1\n",
            "1       ose.exe  ...          1\n",
            "2     setup.exe  ...          1\n",
            "3      DW20.EXE  ...          1\n",
            "4  dwtrig20.exe  ...          1\n",
            "\n",
            "[5 rows x 57 columns]\n"
          ],
          "name": "stdout"
        }
      ]
    },
    {
      "cell_type": "code",
      "metadata": {
        "id": "-cjreCNu4PQR",
        "colab_type": "code",
        "colab": {}
      },
      "source": [
        "pd.set_option(\"display.max_columns\", None)"
      ],
      "execution_count": 0,
      "outputs": []
    },
    {
      "cell_type": "code",
      "metadata": {
        "id": "a0gqUszC4_kK",
        "colab_type": "code",
        "colab": {}
      },
      "source": [
        "#head will show the top results\n",
        "print(malData.head(5))"
      ],
      "execution_count": 0,
      "outputs": []
    },
    {
      "cell_type": "code",
      "metadata": {
        "id": "kLsxDlFC5DLa",
        "colab_type": "code",
        "colab": {}
      },
      "source": [
        "#the take argument will show you the info (of the dataset) based on the positional arguments\n",
        "print(legit.take([1]))"
      ],
      "execution_count": 0,
      "outputs": []
    },
    {
      "cell_type": "code",
      "metadata": {
        "id": "BoariZY-7ssh",
        "colab_type": "code",
        "colab": {}
      },
      "source": [
        "#e.g, here, 1 in the array is the positional space of 2. and 0 would be 1. since arrays start with 0.\n",
        "print(mals.take([1]))"
      ],
      "execution_count": 0,
      "outputs": []
    },
    {
      "cell_type": "markdown",
      "metadata": {
        "id": "U2gMiwHOGski",
        "colab_type": "text"
      },
      "source": [
        "`code classification begins!`"
      ]
    },
    {
      "cell_type": "code",
      "metadata": {
        "id": "L9QZETR07w0e",
        "colab_type": "code",
        "colab": {}
      },
      "source": [
        "#now we will begin to code the classifier\n",
        "from sklearn.ensemble import ExtraTreesClassifier\n",
        "from sklearn.feature_selection import SelectFromModel\n",
        "from sklearn.model_selection import train_test_split"
      ],
      "execution_count": 0,
      "outputs": []
    },
    {
      "cell_type": "code",
      "metadata": {
        "id": "82gq3wNEGpcB",
        "colab_type": "code",
        "outputId": "4fa12ef1-0374-454c-b71a-49fcf530ae17",
        "colab": {
          "base_uri": "https://localhost:8080/",
          "height": 88
        }
      },
      "source": [
        "data_in = malData.drop(['Name', 'md5', 'legitimate'], axis=1).values\n",
        "labels = malData['legitimate'].values\n",
        "extratrees = ExtraTreesClassifier().fit(data_in, labels)\n",
        "\n",
        "select = SelectFromModel(extratrees, prefit=True)\n",
        "data_in_new = select.transform(data_in)\n",
        "\n",
        "print(data_in.shape, data_in_new.shape)"
      ],
      "execution_count": 0,
      "outputs": [
        {
          "output_type": "stream",
          "text": [
            "/usr/local/lib/python3.6/dist-packages/sklearn/ensemble/forest.py:245: FutureWarning: The default value of n_estimators will change from 10 in version 0.20 to 100 in 0.22.\n",
            "  \"10 in version 0.20 to 100 in 0.22.\", FutureWarning)\n"
          ],
          "name": "stderr"
        },
        {
          "output_type": "stream",
          "text": [
            "(138047, 54) (138047, 12)\n"
          ],
          "name": "stdout"
        }
      ]
    },
    {
      "cell_type": "code",
      "metadata": {
        "id": "acQtB9DTIWcG",
        "colab_type": "code",
        "outputId": "4c5b313b-a264-43b7-a684-325b7fc1443f",
        "colab": {
          "base_uri": "https://localhost:8080/",
          "height": 221
        }
      },
      "source": [
        "import numpy as np\n",
        "features = data_in_new.shape[1]\n",
        "importances = extratrees.feature_importances_\n",
        "indices = np.argsort(importances)[::-1]\n",
        "\n",
        "\n",
        "for f in range(features):\n",
        "    print(\"%d\"%(f+1), malData.columns[2+indices[f]])"
      ],
      "execution_count": 0,
      "outputs": [
        {
          "output_type": "stream",
          "text": [
            "1 Machine\n",
            "2 Characteristics\n",
            "3 DllCharacteristics\n",
            "4 MajorSubsystemVersion\n",
            "5 Subsystem\n",
            "6 VersionInformationSize\n",
            "7 SectionsMaxEntropy\n",
            "8 SectionsMeanEntropy\n",
            "9 ResourcesMaxEntropy\n",
            "10 ImageBase\n",
            "11 SizeOfOptionalHeader\n",
            "12 MinorLinkerVersion\n"
          ],
          "name": "stdout"
        }
      ]
    }
  ]
}