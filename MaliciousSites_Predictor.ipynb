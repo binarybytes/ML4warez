{
  "nbformat": 4,
  "nbformat_minor": 0,
  "metadata": {
    "colab": {
      "name": "MaliciousSites_Predictor.ipynb",
      "version": "0.3.2",
      "provenance": [],
      "collapsed_sections": [],
      "include_colab_link": true
    },
    "kernelspec": {
      "name": "python3",
      "display_name": "Python 3"
    },
    "accelerator": "GPU"
  },
  "cells": [
    {
      "cell_type": "markdown",
      "metadata": {
        "id": "view-in-github",
        "colab_type": "text"
      },
      "source": [
        "<a href=\"https://colab.research.google.com/github/binarybytes/ML4warez/blob/master/MaliciousSites_Predictor.ipynb\" target=\"_parent\"><img src=\"https://colab.research.google.com/assets/colab-badge.svg\" alt=\"Open In Colab\"/></a>"
      ]
    },
    {
      "cell_type": "code",
      "metadata": {
        "id": "ZvcMf_441Xja",
        "colab_type": "code",
        "outputId": "fcdc19fe-ae05-442d-c35e-8761990c76a5",
        "colab": {
          "base_uri": "https://localhost:8080/",
          "height": 34
        }
      },
      "source": [
        "from google.colab import drive\n",
        "drive.mount ('/content/gdrive/')"
      ],
      "execution_count": 0,
      "outputs": [
        {
          "output_type": "stream",
          "text": [
            "Mounted at /content/gdrive/\n"
          ],
          "name": "stdout"
        }
      ]
    },
    {
      "cell_type": "code",
      "metadata": {
        "id": "hw86zqE18ZpE",
        "colab_type": "code",
        "colab": {
          "base_uri": "https://localhost:8080/",
          "height": 51
        },
        "outputId": "303461ea-5205-45e8-c947-400cb928836b"
      },
      "source": [
        "#import libraries\n",
        "import pandas as pd\n",
        "\n",
        "#instantiate the csv\n",
        "malData = pd.read_csv(\"MalwareData.csv\", sep=\"|\")\n",
        "\n",
        "legit = malData[0:41323].drop([\"legitimate\"], axis=1)\n",
        "\n",
        "mals = malData[41323::].drop([\"legitimate\"], axis=1)\n",
        "\n",
        "print(\"the shape of legit dataset is, %s samples, %s features \" %(legit.shape[0],legit.shape[1]))\n",
        "\n",
        "print (\"the shape of mals dataset is, %s samples, %s features \" %(mals.shape[0],mals.shape[1]))\n",
        "#run"
      ],
      "execution_count": 3,
      "outputs": [
        {
          "output_type": "stream",
          "text": [
            "the shape of legit dataset is, 41323 samples, 56 features \n",
            "the shape of mals dataset is, 96724 samples, 56 features \n"
          ],
          "name": "stdout"
        }
      ]
    },
    {
      "cell_type": "code",
      "metadata": {
        "id": "FNzTY7D32Cdt",
        "colab_type": "code",
        "colab": {
          "base_uri": "https://localhost:8080/",
          "height": 340
        },
        "outputId": "ee1ab13f-dc91-4d1f-a151-1b74b91187a3"
      },
      "source": [
        "#list all of the [56] features/variables\n",
        "print(malData.columns)"
      ],
      "execution_count": 5,
      "outputs": [
        {
          "output_type": "stream",
          "text": [
            "Index(['Name', 'md5', 'Machine', 'SizeOfOptionalHeader', 'Characteristics',\n",
            "       'MajorLinkerVersion', 'MinorLinkerVersion', 'SizeOfCode',\n",
            "       'SizeOfInitializedData', 'SizeOfUninitializedData',\n",
            "       'AddressOfEntryPoint', 'BaseOfCode', 'BaseOfData', 'ImageBase',\n",
            "       'SectionAlignment', 'FileAlignment', 'MajorOperatingSystemVersion',\n",
            "       'MinorOperatingSystemVersion', 'MajorImageVersion', 'MinorImageVersion',\n",
            "       'MajorSubsystemVersion', 'MinorSubsystemVersion', 'SizeOfImage',\n",
            "       'SizeOfHeaders', 'CheckSum', 'Subsystem', 'DllCharacteristics',\n",
            "       'SizeOfStackReserve', 'SizeOfStackCommit', 'SizeOfHeapReserve',\n",
            "       'SizeOfHeapCommit', 'LoaderFlags', 'NumberOfRvaAndSizes', 'SectionsNb',\n",
            "       'SectionsMeanEntropy', 'SectionsMinEntropy', 'SectionsMaxEntropy',\n",
            "       'SectionsMeanRawsize', 'SectionsMinRawsize', 'SectionMaxRawsize',\n",
            "       'SectionsMeanVirtualsize', 'SectionsMinVirtualsize',\n",
            "       'SectionMaxVirtualsize', 'ImportsNbDLL', 'ImportsNb',\n",
            "       'ImportsNbOrdinal', 'ExportNb', 'ResourcesNb', 'ResourcesMeanEntropy',\n",
            "       'ResourcesMinEntropy', 'ResourcesMaxEntropy', 'ResourcesMeanSize',\n",
            "       'ResourcesMinSize', 'ResourcesMaxSize', 'LoadConfigurationSize',\n",
            "       'VersionInformationSize', 'legitimate'],\n",
            "      dtype='object')\n"
          ],
          "name": "stdout"
        }
      ]
    },
    {
      "cell_type": "code",
      "metadata": {
        "id": "GYNqGd04FQVq",
        "colab_type": "code",
        "colab": {}
      },
      "source": [
        ""
      ],
      "execution_count": 0,
      "outputs": []
    }
  ]
}